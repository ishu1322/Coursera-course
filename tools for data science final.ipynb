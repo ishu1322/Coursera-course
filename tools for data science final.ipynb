{
 "cells": [
  {
   "cell_type": "markdown",
   "id": "4fd076dc",
   "metadata": {},
   "source": [
    "# My Jupyter Notebook on IBM Watson Studio"
   ]
  },
  {
   "cell_type": "markdown",
   "id": "6d5c5ed4",
   "metadata": {},
   "source": [
    "**Ishu**"
   ]
  },
  {
   "cell_type": "markdown",
   "id": "137716e9",
   "metadata": {},
   "source": [
    "Student"
   ]
  },
  {
   "cell_type": "markdown",
   "id": "0da84046",
   "metadata": {},
   "source": [
    "*I am interested in data science because I like maths, stats and computer science, and data science is combination of these three.*"
   ]
  },
  {
   "cell_type": "markdown",
   "id": "a7b40880",
   "metadata": {},
   "source": [
    "### Below Code should print 2^2"
   ]
  },
  {
   "cell_type": "code",
   "execution_count": 3,
   "id": "6d6de280",
   "metadata": {},
   "outputs": [
    {
     "name": "stdout",
     "output_type": "stream",
     "text": [
      "4\n"
     ]
    }
   ],
   "source": [
    "print(2**2)"
   ]
  },
  {
   "cell_type": "markdown",
   "id": "c7dbfb87",
   "metadata": {},
   "source": [
    "* Bullet item 1\n",
    "* Bullet item 2\n",
    "***\n",
    "1. Numbered item 1\n",
    "1. Numbered item 2"
   ]
  }
 ],
 "metadata": {
  "kernelspec": {
   "display_name": "Python 3 (ipykernel)",
   "language": "python",
   "name": "python3"
  },
  "language_info": {
   "codemirror_mode": {
    "name": "ipython",
    "version": 3
   },
   "file_extension": ".py",
   "mimetype": "text/x-python",
   "name": "python",
   "nbconvert_exporter": "python",
   "pygments_lexer": "ipython3",
   "version": "3.9.13"
  }
 },
 "nbformat": 4,
 "nbformat_minor": 5
}
